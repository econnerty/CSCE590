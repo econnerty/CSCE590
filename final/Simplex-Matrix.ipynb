{
 "cells": [
  {
   "cell_type": "code",
   "execution_count": 1,
   "metadata": {},
   "outputs": [],
   "source": [
    "#Copied from https://gist.github.com/samueleverett01/335aff59cc7010453599a36f6b5b1356\n",
    "\n",
    "import numpy as np"
   ]
  },
  {
   "cell_type": "markdown",
   "metadata": {},
   "source": [
    "## Implementation of The Simplex Algorithm via Matrix Operations\n",
    "\n",
    "The following code implements the Simplex method with matrix operations, as opposed to the tableau method.  \n",
    "\n",
    "We begin by writing out a constrained optimization problem in *standard form* below.  The matrix $A$ holds the coefficients of the inequality constraints, the vector $b$ is the vector of solutions, and the vector $c$ holds the coefficients of the variables of the objective function that is being optimized."
   ]
  },
  {
   "cell_type": "code",
   "execution_count": 2,
   "metadata": {},
   "outputs": [],
   "source": [
    "# User Defined Input\n",
    "\n",
    "# Define the matrix A and vector b\n",
    "A = np.array([\n",
    "    [1, 1, 1, 0, 0, 0],   # Original variables + slack variables\n",
    "    [0, 0, 1, 1, 0, 0],   # Slack variable for second constraint\n",
    "    [1, 0, 1, 0, 1, 0],   # Slack variable for third constraint\n",
    "    [2, 0, 5, 0, 0, 1],   # Slack variable for fourth constraint\n",
    "    [-7, 8, 0, 0, 0, 0],  # Only original variables, assuming equality\n",
    "    [1, 2, -1, 0, 0, 0]   # Only original variables, assuming equality\n",
    "])\n",
    "\n",
    "b = np.array([3, 1, 2, 8, 0, 1])\n",
    "\n",
    "# Define the cost vector c, assuming 3 original variables and 3 slack variables\n",
    "c = np.array([1, 1, 1, 0, 0, 0])  # Minimizing x1 + x2 + x3, no cost on slacks"
   ]
  },
  {
   "cell_type": "markdown",
   "metadata": {},
   "source": [
    "Now, we continue to establish the function ``Simplex`` that solves a linear constrained optimization problem using a matrix method implementation of the Simplex Algorithm."
   ]
  },
  {
   "cell_type": "code",
   "execution_count": 3,
   "metadata": {},
   "outputs": [
    {
     "ename": "ValueError",
     "evalue": "attempt to get argmin of an empty sequence",
     "output_type": "error",
     "traceback": [
      "\u001b[0;31m---------------------------------------------------------------------------\u001b[0m",
      "\u001b[0;31mValueError\u001b[0m                                Traceback (most recent call last)",
      "Cell \u001b[0;32mIn[3], line 87\u001b[0m\n\u001b[1;32m     83\u001b[0m         cindx[cnMinIndx], cindx[ratioMinIndx \u001b[38;5;241m+\u001b[39m nonbasicSize] \u001b[38;5;241m=\u001b[39m cindx[ratioMinIndx \u001b[38;5;241m+\u001b[39m nonbasicSize], cindx[cnMinIndx]\n\u001b[1;32m     84\u001b[0m         \u001b[38;5;66;03m# now repeat the loop\u001b[39;00m\n\u001b[0;32m---> 87\u001b[0m cbT, cbIndx, cnT, cnIndx, bHat, cnHat\u001b[38;5;241m=\u001b[39m Simplex(A, b, c)\n\u001b[1;32m     89\u001b[0m \u001b[38;5;28mprint\u001b[39m(\u001b[38;5;124m\"\u001b[39m\u001b[38;5;124mSolution is \u001b[39m\u001b[38;5;124m\"\u001b[39m, bHat)\n",
      "Cell \u001b[0;32mIn[3], line 49\u001b[0m, in \u001b[0;36mSimplex\u001b[0;34m(A, b, c)\u001b[0m\n\u001b[1;32m     46\u001b[0m cnHat \u001b[38;5;241m=\u001b[39m cnT \u001b[38;5;241m-\u001b[39m (yT \u001b[38;5;241m@\u001b[39m N)\n\u001b[1;32m     48\u001b[0m \u001b[38;5;66;03m# find indx of minimum value of cnhat, this is the variable to enter the basis\u001b[39;00m\n\u001b[0;32m---> 49\u001b[0m cnMinIndx \u001b[38;5;241m=\u001b[39m np\u001b[38;5;241m.\u001b[39margmin(cnHat)\n\u001b[1;32m     51\u001b[0m \u001b[38;5;66;03m# break out of loop, returning values if all values of cnhat are above 0\u001b[39;00m\n\u001b[1;32m     52\u001b[0m \u001b[38;5;28;01mif\u001b[39;00m(\u001b[38;5;28mall\u001b[39m(i\u001b[38;5;241m>\u001b[39m\u001b[38;5;241m=\u001b[39m\u001b[38;5;241m0\u001b[39m \u001b[38;5;28;01mfor\u001b[39;00m i \u001b[38;5;129;01min\u001b[39;00m cnHat)):\n\u001b[1;32m     53\u001b[0m     \u001b[38;5;66;03m# use cbIndx to get index values of variables in bHat, and the corresponding index\u001b[39;00m\n\u001b[1;32m     54\u001b[0m     \u001b[38;5;66;03m# values in bHat are the final solution values for each of the corresponding variables\u001b[39;00m\n\u001b[1;32m     55\u001b[0m     \u001b[38;5;66;03m# ie value 0 in dbIndx corresponds with first variable, so whatever the index for the 0 is\u001b[39;00m\n\u001b[1;32m     56\u001b[0m     \u001b[38;5;66;03m# is the index in bHat that has the solution value for that variable.\u001b[39;00m\n",
      "File \u001b[0;32m<__array_function__ internals>:200\u001b[0m, in \u001b[0;36margmin\u001b[0;34m(*args, **kwargs)\u001b[0m\n",
      "File \u001b[0;32m~/anaconda3/lib/python3.11/site-packages/numpy/core/fromnumeric.py:1338\u001b[0m, in \u001b[0;36margmin\u001b[0;34m(a, axis, out, keepdims)\u001b[0m\n\u001b[1;32m   1251\u001b[0m \u001b[38;5;250m\u001b[39m\u001b[38;5;124;03m\"\"\"\u001b[39;00m\n\u001b[1;32m   1252\u001b[0m \u001b[38;5;124;03mReturns the indices of the minimum values along an axis.\u001b[39;00m\n\u001b[1;32m   1253\u001b[0m \n\u001b[0;32m   (...)\u001b[0m\n\u001b[1;32m   1335\u001b[0m \u001b[38;5;124;03m(2, 1, 4)\u001b[39;00m\n\u001b[1;32m   1336\u001b[0m \u001b[38;5;124;03m\"\"\"\u001b[39;00m\n\u001b[1;32m   1337\u001b[0m kwds \u001b[38;5;241m=\u001b[39m {\u001b[38;5;124m'\u001b[39m\u001b[38;5;124mkeepdims\u001b[39m\u001b[38;5;124m'\u001b[39m: keepdims} \u001b[38;5;28;01mif\u001b[39;00m keepdims \u001b[38;5;129;01mis\u001b[39;00m \u001b[38;5;129;01mnot\u001b[39;00m np\u001b[38;5;241m.\u001b[39m_NoValue \u001b[38;5;28;01melse\u001b[39;00m {}\n\u001b[0;32m-> 1338\u001b[0m \u001b[38;5;28;01mreturn\u001b[39;00m _wrapfunc(a, \u001b[38;5;124m'\u001b[39m\u001b[38;5;124margmin\u001b[39m\u001b[38;5;124m'\u001b[39m, axis\u001b[38;5;241m=\u001b[39maxis, out\u001b[38;5;241m=\u001b[39mout, \u001b[38;5;241m*\u001b[39m\u001b[38;5;241m*\u001b[39mkwds)\n",
      "File \u001b[0;32m~/anaconda3/lib/python3.11/site-packages/numpy/core/fromnumeric.py:57\u001b[0m, in \u001b[0;36m_wrapfunc\u001b[0;34m(obj, method, *args, **kwds)\u001b[0m\n\u001b[1;32m     54\u001b[0m     \u001b[38;5;28;01mreturn\u001b[39;00m _wrapit(obj, method, \u001b[38;5;241m*\u001b[39margs, \u001b[38;5;241m*\u001b[39m\u001b[38;5;241m*\u001b[39mkwds)\n\u001b[1;32m     56\u001b[0m \u001b[38;5;28;01mtry\u001b[39;00m:\n\u001b[0;32m---> 57\u001b[0m     \u001b[38;5;28;01mreturn\u001b[39;00m bound(\u001b[38;5;241m*\u001b[39margs, \u001b[38;5;241m*\u001b[39m\u001b[38;5;241m*\u001b[39mkwds)\n\u001b[1;32m     58\u001b[0m \u001b[38;5;28;01mexcept\u001b[39;00m \u001b[38;5;167;01mTypeError\u001b[39;00m:\n\u001b[1;32m     59\u001b[0m     \u001b[38;5;66;03m# A TypeError occurs if the object does have such a method in its\u001b[39;00m\n\u001b[1;32m     60\u001b[0m     \u001b[38;5;66;03m# class, but its signature is not identical to that of NumPy's. This\u001b[39;00m\n\u001b[0;32m   (...)\u001b[0m\n\u001b[1;32m     64\u001b[0m     \u001b[38;5;66;03m# Call _wrapit from within the except clause to ensure a potential\u001b[39;00m\n\u001b[1;32m     65\u001b[0m     \u001b[38;5;66;03m# exception has a traceback chain.\u001b[39;00m\n\u001b[1;32m     66\u001b[0m     \u001b[38;5;28;01mreturn\u001b[39;00m _wrapit(obj, method, \u001b[38;5;241m*\u001b[39margs, \u001b[38;5;241m*\u001b[39m\u001b[38;5;241m*\u001b[39mkwds)\n",
      "\u001b[0;31mValueError\u001b[0m: attempt to get argmin of an empty sequence"
     ]
    }
   ],
   "source": [
    "#This code is already commented\n",
    "def Simplex(A, b, c):\n",
    "    '''Takes input vars, computs corresponding values,\n",
    "    then uses while loop to iterate until a basic optimal solution is reached.\n",
    "    RETURNS: cbT, cbIndx, cnT, cnIndx, bHat, cnHat.\n",
    "    cbT, cbIndex is final basic variable values, and indices\n",
    "    cnT, cnIndex is final nonbasic variable values and indices\n",
    "    bHat is final solution values, \n",
    "    cnHat is optimality condition'''\n",
    "    \n",
    "    #sizes of basic and nonbasic vectors\n",
    "    basicSize = A.shape[0] # number of constraints, m\n",
    "    nonbasicSize = A.shape[1] - basicSize #n-m, number of variables\n",
    "        \n",
    "    # global index tracker of variables of basic and nonbasic variables (objective)\n",
    "    # that is, index 0 corresponds with x_0, 1 with x_1 and so on.  So each index corresponds with a variable\n",
    "    cindx = [i for i in range(0, len(c))]\n",
    "    \n",
    "    #basic variable coefficients\n",
    "    cbT = np.array(c[nonbasicSize:])\n",
    "\n",
    "    #nonbasic variable coefficients\n",
    "    cnT = np.array(c[:nonbasicSize])\n",
    "    \n",
    "    # run core simplex method until reach the optimal solution\n",
    "    while True:\n",
    "        \n",
    "        # keep track of current indices of basic and non-basic variables\n",
    "        cbIndx = cindx[nonbasicSize:]\n",
    "        cnIndx = cindx[:nonbasicSize]\n",
    "        \n",
    "        # basis matrix\n",
    "        B = A[:, cbIndx]\n",
    "        Binv = np.linalg.inv(B)\n",
    "        \n",
    "        # nonbasic variable matrix\n",
    "        N = A[:, cnIndx]\n",
    "        \n",
    "        # bHat, the values of the basic variables\n",
    "        # recall that at the start the basic variables are the slack variables, and \n",
    "        # have values equal the vector b (as primary variables are set to 0 at the start)\n",
    "        bHat = Binv @ b\n",
    "        yT = cbT @ Binv\n",
    "        \n",
    "        # use to check for optimality, determine variable to enter basis\n",
    "        cnHat = cnT - (yT @ N)\n",
    "        \n",
    "        # find indx of minimum value of cnhat, this is the variable to enter the basis\n",
    "        cnMinIndx = np.argmin(cnHat)\n",
    "\n",
    "        # break out of loop, returning values if all values of cnhat are above 0\n",
    "        if(all(i>=0 for i in cnHat)):\n",
    "            # use cbIndx to get index values of variables in bHat, and the corresponding index\n",
    "            # values in bHat are the final solution values for each of the corresponding variables\n",
    "            # ie value 0 in dbIndx corresponds with first variable, so whatever the index for the 0 is\n",
    "            # is the index in bHat that has the solution value for that variable.\n",
    "            return cbT, cbIndx, cnT, cnIndx, bHat, cnHat\n",
    "        \n",
    "        # this is the index for the column of coeffs in a for the given variable\n",
    "        indx = cindx[cnMinIndx]\n",
    "\n",
    "        Ahat = Binv @ A[:, indx]\n",
    "        \n",
    "        # now we want to iterate through Ahat and bHat and pick the minimum ratios\n",
    "        # only take ratios of variables with Ahat_i values greater than 0\n",
    "        # pick smallest ratio to get variable that will become nonbasic.\n",
    "        ratios = []\n",
    "        for i in range(0, len(bHat)):\n",
    "            Aval = Ahat[i]\n",
    "            Bval = bHat[i]\n",
    "\n",
    "            # don't look at ratios with val less then or eqaul to 0, append to keep index\n",
    "            if(Aval <= 0):\n",
    "                ratios.append(10000000)\n",
    "                continue\n",
    "            ratios.append(Bval / Aval)\n",
    "\n",
    "        ratioMinIndx = np.argmin(ratios)\n",
    "\n",
    "        #switch basic and nonbasic variables using the indices.\n",
    "        cnT[cnMinIndx], cbT[ratioMinIndx] = cbT[ratioMinIndx], cnT[cnMinIndx]\n",
    "        # switch global index tracker indices\n",
    "        cindx[cnMinIndx], cindx[ratioMinIndx + nonbasicSize] = cindx[ratioMinIndx + nonbasicSize], cindx[cnMinIndx]\n",
    "        # now repeat the loop\n",
    "        \n",
    "\n",
    "cbT, cbIndx, cnT, cnIndx, bHat, cnHat= Simplex(A, b, c)\n",
    "\n",
    "print(\"Solution is \", bHat)"
   ]
  },
  {
   "cell_type": "markdown",
   "metadata": {},
   "source": [
    "In the following we proceed to test the function with different constrained optimization problems."
   ]
  },
  {
   "cell_type": "code",
   "execution_count": 4,
   "metadata": {},
   "outputs": [
    {
     "data": {
      "text/plain": [
       "(array([-2,  0, -3]),\n",
       " [1, 4, 0],\n",
       " array([0, 0]),\n",
       " [3, 2],\n",
       " array([12.,  3.,  3.]),\n",
       " array([0.25, 1.25]))"
      ]
     },
     "execution_count": 4,
     "metadata": {},
     "output_type": "execute_result"
    }
   ],
   "source": [
    "# example test\n",
    "A = np.array([[2, 1, 1, 0, 0],\n",
    "             [2, 3, 0, 1, 0],\n",
    "             [3, 1, 0, 0, 1]])\n",
    "c = np.array([-3, -2, 0, 0, 0])\n",
    "b = np.array([18, 42, 24])\n",
    "\n",
    "Simplex(A, b, c)"
   ]
  },
  {
   "cell_type": "code",
   "execution_count": 9,
   "metadata": {},
   "outputs": [
    {
     "data": {
      "text/plain": [
       "(array([-1, -2,  0]),\n",
       " [0, 1, 5],\n",
       " array([0, 0, 1]),\n",
       " [3, 4, 2],\n",
       " array([0.66666667, 3.33333333, 0.33333333]),\n",
       " array([1.33333333, 0.33333333, 1.66666667]))"
      ]
     },
     "execution_count": 9,
     "metadata": {},
     "output_type": "execute_result"
    }
   ],
   "source": [
    "# another example test\n",
    "A = np.array([[1, 1, 1, 1, 0, 0],\n",
    "            [-1, 2, -2, 0, 1, 0],\n",
    "            [2, 1, 0, 0, 0, 1]])\n",
    "\n",
    "b = np.array([4, 6, 5])\n",
    "c = np.array([-1, -2, 1, 0, 0, 0])\n",
    "\n",
    "Simplex(A, b, c)"
   ]
  },
  {
   "cell_type": "markdown",
   "metadata": {},
   "source": [
    "As seen above, the function ``Simplex`` outputs the correct values.  ``Simplex`` returns more information than necessary (it does not just return the solution), but it can be useful to see the final values of all the key matrices it uses in the algorithm, so we may gain an intuition into what is going on."
   ]
  }
 ],
 "metadata": {
  "kernelspec": {
   "display_name": "Python 3",
   "language": "python",
   "name": "python3"
  },
  "language_info": {
   "codemirror_mode": {
    "name": "ipython",
    "version": 3
   },
   "file_extension": ".py",
   "mimetype": "text/x-python",
   "name": "python",
   "nbconvert_exporter": "python",
   "pygments_lexer": "ipython3",
   "version": "3.11.5"
  }
 },
 "nbformat": 4,
 "nbformat_minor": 2
}
